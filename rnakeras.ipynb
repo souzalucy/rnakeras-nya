{
  "nbformat": 4,
  "nbformat_minor": 0,
  "metadata": {
    "colab": {
      "provenance": []
    },
    "kernelspec": {
      "name": "python3",
      "display_name": "Python 3"
    },
    "language_info": {
      "name": "python"
    }
  },
  "cells": [
    {
      "cell_type": "markdown",
      "source": [
        "#Importação dados e bases"
      ],
      "metadata": {
        "id": "8I8_vL62hhPU"
      }
    },
    {
      "cell_type": "code",
      "execution_count": 9,
      "metadata": {
        "id": "WKbHZ4v4cVLH"
      },
      "outputs": [],
      "source": [
        "import pandas as pd\n",
        "import numpy as np\n",
        "from sklearn.model_selection import train_test_split\n",
        "from sklearn.preprocessing import LabelEncoder, StandardScaler\n",
        "from sklearn.metrics import accuracy_score, f1_score, recall_score, confusion_matrix\n",
        "from keras.models import Sequential\n",
        "from keras.layers import Dense, Dropout"
      ]
    },
    {
      "cell_type": "code",
      "source": [
        "df = pd.read_csv(\"Churn_treino.csv\", sep=\";\")"
      ],
      "metadata": {
        "id": "Y3unHPsmgZUp"
      },
      "execution_count": 14,
      "outputs": []
    },
    {
      "cell_type": "code",
      "source": [
        "df.head()"
      ],
      "metadata": {
        "colab": {
          "base_uri": "https://localhost:8080/",
          "height": 206
        },
        "id": "bCKaHzX3hfGQ",
        "outputId": "417faab0-68f9-4185-a207-0d94652df32c"
      },
      "execution_count": 15,
      "outputs": [
        {
          "output_type": "execute_result",
          "data": {
            "text/plain": [
              "   CreditScore Geography  Gender  Age  Tenure   Balance  NumOfProducts  \\\n",
              "0          619    France  Female   42       2         0              1   \n",
              "1          608     Spain  Female   41       1   8380786              1   \n",
              "2          502    France  Female   42       8   1596608              3   \n",
              "3          699    France  Female   39       1         0              2   \n",
              "4          850     Spain  Female   43       2  12551082              1   \n",
              "\n",
              "   HasCrCard  IsActiveMember  EstimatedSalary  Exited  \n",
              "0          1               1         10134888       1  \n",
              "1          0               1         11254258       0  \n",
              "2          1               0         11393157       1  \n",
              "3          0               0          9382663       0  \n",
              "4          1               1           790841       0  "
            ],
            "text/html": [
              "\n",
              "  <div id=\"df-d4427d0b-fd0f-4ea1-b34b-a4474096307b\" class=\"colab-df-container\">\n",
              "    <div>\n",
              "<style scoped>\n",
              "    .dataframe tbody tr th:only-of-type {\n",
              "        vertical-align: middle;\n",
              "    }\n",
              "\n",
              "    .dataframe tbody tr th {\n",
              "        vertical-align: top;\n",
              "    }\n",
              "\n",
              "    .dataframe thead th {\n",
              "        text-align: right;\n",
              "    }\n",
              "</style>\n",
              "<table border=\"1\" class=\"dataframe\">\n",
              "  <thead>\n",
              "    <tr style=\"text-align: right;\">\n",
              "      <th></th>\n",
              "      <th>CreditScore</th>\n",
              "      <th>Geography</th>\n",
              "      <th>Gender</th>\n",
              "      <th>Age</th>\n",
              "      <th>Tenure</th>\n",
              "      <th>Balance</th>\n",
              "      <th>NumOfProducts</th>\n",
              "      <th>HasCrCard</th>\n",
              "      <th>IsActiveMember</th>\n",
              "      <th>EstimatedSalary</th>\n",
              "      <th>Exited</th>\n",
              "    </tr>\n",
              "  </thead>\n",
              "  <tbody>\n",
              "    <tr>\n",
              "      <th>0</th>\n",
              "      <td>619</td>\n",
              "      <td>France</td>\n",
              "      <td>Female</td>\n",
              "      <td>42</td>\n",
              "      <td>2</td>\n",
              "      <td>0</td>\n",
              "      <td>1</td>\n",
              "      <td>1</td>\n",
              "      <td>1</td>\n",
              "      <td>10134888</td>\n",
              "      <td>1</td>\n",
              "    </tr>\n",
              "    <tr>\n",
              "      <th>1</th>\n",
              "      <td>608</td>\n",
              "      <td>Spain</td>\n",
              "      <td>Female</td>\n",
              "      <td>41</td>\n",
              "      <td>1</td>\n",
              "      <td>8380786</td>\n",
              "      <td>1</td>\n",
              "      <td>0</td>\n",
              "      <td>1</td>\n",
              "      <td>11254258</td>\n",
              "      <td>0</td>\n",
              "    </tr>\n",
              "    <tr>\n",
              "      <th>2</th>\n",
              "      <td>502</td>\n",
              "      <td>France</td>\n",
              "      <td>Female</td>\n",
              "      <td>42</td>\n",
              "      <td>8</td>\n",
              "      <td>1596608</td>\n",
              "      <td>3</td>\n",
              "      <td>1</td>\n",
              "      <td>0</td>\n",
              "      <td>11393157</td>\n",
              "      <td>1</td>\n",
              "    </tr>\n",
              "    <tr>\n",
              "      <th>3</th>\n",
              "      <td>699</td>\n",
              "      <td>France</td>\n",
              "      <td>Female</td>\n",
              "      <td>39</td>\n",
              "      <td>1</td>\n",
              "      <td>0</td>\n",
              "      <td>2</td>\n",
              "      <td>0</td>\n",
              "      <td>0</td>\n",
              "      <td>9382663</td>\n",
              "      <td>0</td>\n",
              "    </tr>\n",
              "    <tr>\n",
              "      <th>4</th>\n",
              "      <td>850</td>\n",
              "      <td>Spain</td>\n",
              "      <td>Female</td>\n",
              "      <td>43</td>\n",
              "      <td>2</td>\n",
              "      <td>12551082</td>\n",
              "      <td>1</td>\n",
              "      <td>1</td>\n",
              "      <td>1</td>\n",
              "      <td>790841</td>\n",
              "      <td>0</td>\n",
              "    </tr>\n",
              "  </tbody>\n",
              "</table>\n",
              "</div>\n",
              "    <div class=\"colab-df-buttons\">\n",
              "\n",
              "  <div class=\"colab-df-container\">\n",
              "    <button class=\"colab-df-convert\" onclick=\"convertToInteractive('df-d4427d0b-fd0f-4ea1-b34b-a4474096307b')\"\n",
              "            title=\"Convert this dataframe to an interactive table.\"\n",
              "            style=\"display:none;\">\n",
              "\n",
              "  <svg xmlns=\"http://www.w3.org/2000/svg\" height=\"24px\" viewBox=\"0 -960 960 960\">\n",
              "    <path d=\"M120-120v-720h720v720H120Zm60-500h600v-160H180v160Zm220 220h160v-160H400v160Zm0 220h160v-160H400v160ZM180-400h160v-160H180v160Zm440 0h160v-160H620v160ZM180-180h160v-160H180v160Zm440 0h160v-160H620v160Z\"/>\n",
              "  </svg>\n",
              "    </button>\n",
              "\n",
              "  <style>\n",
              "    .colab-df-container {\n",
              "      display:flex;\n",
              "      gap: 12px;\n",
              "    }\n",
              "\n",
              "    .colab-df-convert {\n",
              "      background-color: #E8F0FE;\n",
              "      border: none;\n",
              "      border-radius: 50%;\n",
              "      cursor: pointer;\n",
              "      display: none;\n",
              "      fill: #1967D2;\n",
              "      height: 32px;\n",
              "      padding: 0 0 0 0;\n",
              "      width: 32px;\n",
              "    }\n",
              "\n",
              "    .colab-df-convert:hover {\n",
              "      background-color: #E2EBFA;\n",
              "      box-shadow: 0px 1px 2px rgba(60, 64, 67, 0.3), 0px 1px 3px 1px rgba(60, 64, 67, 0.15);\n",
              "      fill: #174EA6;\n",
              "    }\n",
              "\n",
              "    .colab-df-buttons div {\n",
              "      margin-bottom: 4px;\n",
              "    }\n",
              "\n",
              "    [theme=dark] .colab-df-convert {\n",
              "      background-color: #3B4455;\n",
              "      fill: #D2E3FC;\n",
              "    }\n",
              "\n",
              "    [theme=dark] .colab-df-convert:hover {\n",
              "      background-color: #434B5C;\n",
              "      box-shadow: 0px 1px 3px 1px rgba(0, 0, 0, 0.15);\n",
              "      filter: drop-shadow(0px 1px 2px rgba(0, 0, 0, 0.3));\n",
              "      fill: #FFFFFF;\n",
              "    }\n",
              "  </style>\n",
              "\n",
              "    <script>\n",
              "      const buttonEl =\n",
              "        document.querySelector('#df-d4427d0b-fd0f-4ea1-b34b-a4474096307b button.colab-df-convert');\n",
              "      buttonEl.style.display =\n",
              "        google.colab.kernel.accessAllowed ? 'block' : 'none';\n",
              "\n",
              "      async function convertToInteractive(key) {\n",
              "        const element = document.querySelector('#df-d4427d0b-fd0f-4ea1-b34b-a4474096307b');\n",
              "        const dataTable =\n",
              "          await google.colab.kernel.invokeFunction('convertToInteractive',\n",
              "                                                    [key], {});\n",
              "        if (!dataTable) return;\n",
              "\n",
              "        const docLinkHtml = 'Like what you see? Visit the ' +\n",
              "          '<a target=\"_blank\" href=https://colab.research.google.com/notebooks/data_table.ipynb>data table notebook</a>'\n",
              "          + ' to learn more about interactive tables.';\n",
              "        element.innerHTML = '';\n",
              "        dataTable['output_type'] = 'display_data';\n",
              "        await google.colab.output.renderOutput(dataTable, element);\n",
              "        const docLink = document.createElement('div');\n",
              "        docLink.innerHTML = docLinkHtml;\n",
              "        element.appendChild(docLink);\n",
              "      }\n",
              "    </script>\n",
              "  </div>\n",
              "\n",
              "\n",
              "<div id=\"df-21ad5a86-9f31-45a1-a831-860c370cfa59\">\n",
              "  <button class=\"colab-df-quickchart\" onclick=\"quickchart('df-21ad5a86-9f31-45a1-a831-860c370cfa59')\"\n",
              "            title=\"Suggest charts\"\n",
              "            style=\"display:none;\">\n",
              "\n",
              "<svg xmlns=\"http://www.w3.org/2000/svg\" height=\"24px\"viewBox=\"0 0 24 24\"\n",
              "     width=\"24px\">\n",
              "    <g>\n",
              "        <path d=\"M19 3H5c-1.1 0-2 .9-2 2v14c0 1.1.9 2 2 2h14c1.1 0 2-.9 2-2V5c0-1.1-.9-2-2-2zM9 17H7v-7h2v7zm4 0h-2V7h2v10zm4 0h-2v-4h2v4z\"/>\n",
              "    </g>\n",
              "</svg>\n",
              "  </button>\n",
              "\n",
              "<style>\n",
              "  .colab-df-quickchart {\n",
              "      --bg-color: #E8F0FE;\n",
              "      --fill-color: #1967D2;\n",
              "      --hover-bg-color: #E2EBFA;\n",
              "      --hover-fill-color: #174EA6;\n",
              "      --disabled-fill-color: #AAA;\n",
              "      --disabled-bg-color: #DDD;\n",
              "  }\n",
              "\n",
              "  [theme=dark] .colab-df-quickchart {\n",
              "      --bg-color: #3B4455;\n",
              "      --fill-color: #D2E3FC;\n",
              "      --hover-bg-color: #434B5C;\n",
              "      --hover-fill-color: #FFFFFF;\n",
              "      --disabled-bg-color: #3B4455;\n",
              "      --disabled-fill-color: #666;\n",
              "  }\n",
              "\n",
              "  .colab-df-quickchart {\n",
              "    background-color: var(--bg-color);\n",
              "    border: none;\n",
              "    border-radius: 50%;\n",
              "    cursor: pointer;\n",
              "    display: none;\n",
              "    fill: var(--fill-color);\n",
              "    height: 32px;\n",
              "    padding: 0;\n",
              "    width: 32px;\n",
              "  }\n",
              "\n",
              "  .colab-df-quickchart:hover {\n",
              "    background-color: var(--hover-bg-color);\n",
              "    box-shadow: 0 1px 2px rgba(60, 64, 67, 0.3), 0 1px 3px 1px rgba(60, 64, 67, 0.15);\n",
              "    fill: var(--button-hover-fill-color);\n",
              "  }\n",
              "\n",
              "  .colab-df-quickchart-complete:disabled,\n",
              "  .colab-df-quickchart-complete:disabled:hover {\n",
              "    background-color: var(--disabled-bg-color);\n",
              "    fill: var(--disabled-fill-color);\n",
              "    box-shadow: none;\n",
              "  }\n",
              "\n",
              "  .colab-df-spinner {\n",
              "    border: 2px solid var(--fill-color);\n",
              "    border-color: transparent;\n",
              "    border-bottom-color: var(--fill-color);\n",
              "    animation:\n",
              "      spin 1s steps(1) infinite;\n",
              "  }\n",
              "\n",
              "  @keyframes spin {\n",
              "    0% {\n",
              "      border-color: transparent;\n",
              "      border-bottom-color: var(--fill-color);\n",
              "      border-left-color: var(--fill-color);\n",
              "    }\n",
              "    20% {\n",
              "      border-color: transparent;\n",
              "      border-left-color: var(--fill-color);\n",
              "      border-top-color: var(--fill-color);\n",
              "    }\n",
              "    30% {\n",
              "      border-color: transparent;\n",
              "      border-left-color: var(--fill-color);\n",
              "      border-top-color: var(--fill-color);\n",
              "      border-right-color: var(--fill-color);\n",
              "    }\n",
              "    40% {\n",
              "      border-color: transparent;\n",
              "      border-right-color: var(--fill-color);\n",
              "      border-top-color: var(--fill-color);\n",
              "    }\n",
              "    60% {\n",
              "      border-color: transparent;\n",
              "      border-right-color: var(--fill-color);\n",
              "    }\n",
              "    80% {\n",
              "      border-color: transparent;\n",
              "      border-right-color: var(--fill-color);\n",
              "      border-bottom-color: var(--fill-color);\n",
              "    }\n",
              "    90% {\n",
              "      border-color: transparent;\n",
              "      border-bottom-color: var(--fill-color);\n",
              "    }\n",
              "  }\n",
              "</style>\n",
              "\n",
              "  <script>\n",
              "    async function quickchart(key) {\n",
              "      const quickchartButtonEl =\n",
              "        document.querySelector('#' + key + ' button');\n",
              "      quickchartButtonEl.disabled = true;  // To prevent multiple clicks.\n",
              "      quickchartButtonEl.classList.add('colab-df-spinner');\n",
              "      try {\n",
              "        const charts = await google.colab.kernel.invokeFunction(\n",
              "            'suggestCharts', [key], {});\n",
              "      } catch (error) {\n",
              "        console.error('Error during call to suggestCharts:', error);\n",
              "      }\n",
              "      quickchartButtonEl.classList.remove('colab-df-spinner');\n",
              "      quickchartButtonEl.classList.add('colab-df-quickchart-complete');\n",
              "    }\n",
              "    (() => {\n",
              "      let quickchartButtonEl =\n",
              "        document.querySelector('#df-21ad5a86-9f31-45a1-a831-860c370cfa59 button');\n",
              "      quickchartButtonEl.style.display =\n",
              "        google.colab.kernel.accessAllowed ? 'block' : 'none';\n",
              "    })();\n",
              "  </script>\n",
              "</div>\n",
              "    </div>\n",
              "  </div>\n"
            ]
          },
          "metadata": {},
          "execution_count": 15
        }
      ]
    },
    {
      "cell_type": "markdown",
      "source": [
        "#Padronização dos dados"
      ],
      "metadata": {
        "id": "SbBhik9Chsp5"
      }
    },
    {
      "cell_type": "code",
      "source": [
        "x = df.drop(\"Exited\", axis=1)\n",
        "y= df['Exited']"
      ],
      "metadata": {
        "id": "0H-0dZk7hgXg"
      },
      "execution_count": 16,
      "outputs": []
    },
    {
      "cell_type": "code",
      "source": [
        "#padronização feita apenas para as colunas de dados numéricos\n",
        "standarscaler = StandardScaler()\n",
        "numerical = x.select_dtypes(include=['int64', 'float64']).columns\n",
        "x[numerical] = standarscaler.fit_transform(x[numerical])"
      ],
      "metadata": {
        "id": "OeNiX9jBh4Ww"
      },
      "execution_count": 18,
      "outputs": []
    },
    {
      "cell_type": "code",
      "source": [
        "#padronização de dados categóricos em números\n",
        "labelencoder = LabelEncoder()\n",
        "categorical = x.select_dtypes(include='object').columns\n",
        "\n",
        "for col in categorical:\n",
        "    x[col] = labelencoder.fit_transform(x[col])"
      ],
      "metadata": {
        "id": "EwWFMToqivVV"
      },
      "execution_count": 27,
      "outputs": []
    },
    {
      "cell_type": "markdown",
      "source": [
        "#Treinamento"
      ],
      "metadata": {
        "id": "d9WbBXPckEmD"
      }
    },
    {
      "cell_type": "code",
      "source": [
        "x_treino, x_teste, y_treino, y_teste = train_test_split(x, y, test_size=0.3, random_state=0)\n"
      ],
      "metadata": {
        "id": "r1BfPiQnjU6j"
      },
      "execution_count": 39,
      "outputs": []
    },
    {
      "cell_type": "code",
      "source": [
        "modelo = Sequential()\n",
        "modelo.add((Dense)(units=64, activation='relu', input_dim=x_treino.shape[1]))\n",
        "modelo.add(Dropout(0.4))\n",
        "modelo.add((Dense)(units=32, activation='relu'))\n",
        "modelo.add(Dropout(0.4))\n",
        "modelo.add((Dense)(units=64, activation='relu'))\n",
        "modelo.add(Dropout(0.4))\n",
        "modelo.add((Dense)(units=1, activation='sigmoid'))"
      ],
      "metadata": {
        "id": "ZPO5P5FVkL-p"
      },
      "execution_count": 37,
      "outputs": []
    },
    {
      "cell_type": "code",
      "source": [
        "modelo.compile(optimizer='adam', loss='binary_crossentropy', metrics=['accuracy'])\n",
        "modelo.fit(x_treino, y_treino, epochs=50, batch_size=32)"
      ],
      "metadata": {
        "colab": {
          "base_uri": "https://localhost:8080/"
        },
        "id": "S7rlqfBEn5sp",
        "outputId": "2c2c3f4f-d627-4cbf-9ecd-8c7d872d68d1"
      },
      "execution_count": 40,
      "outputs": [
        {
          "output_type": "stream",
          "name": "stdout",
          "text": [
            "Epoch 1/50\n",
            "219/219 [==============================] - 2s 2ms/step - loss: 0.5256 - accuracy: 0.7807\n",
            "Epoch 2/50\n",
            "219/219 [==============================] - 0s 2ms/step - loss: 0.4655 - accuracy: 0.7979\n",
            "Epoch 3/50\n",
            "219/219 [==============================] - 0s 2ms/step - loss: 0.4574 - accuracy: 0.7981\n",
            "Epoch 4/50\n",
            "219/219 [==============================] - 0s 2ms/step - loss: 0.4461 - accuracy: 0.8053\n",
            "Epoch 5/50\n",
            "219/219 [==============================] - 0s 2ms/step - loss: 0.4315 - accuracy: 0.8146\n",
            "Epoch 6/50\n",
            "219/219 [==============================] - 0s 2ms/step - loss: 0.4186 - accuracy: 0.8234\n",
            "Epoch 7/50\n",
            "219/219 [==============================] - 0s 2ms/step - loss: 0.4120 - accuracy: 0.8230\n",
            "Epoch 8/50\n",
            "219/219 [==============================] - 0s 2ms/step - loss: 0.4048 - accuracy: 0.8296\n",
            "Epoch 9/50\n",
            "219/219 [==============================] - 0s 2ms/step - loss: 0.4024 - accuracy: 0.8326\n",
            "Epoch 10/50\n",
            "219/219 [==============================] - 0s 2ms/step - loss: 0.3940 - accuracy: 0.8347\n",
            "Epoch 11/50\n",
            "219/219 [==============================] - 0s 2ms/step - loss: 0.3920 - accuracy: 0.8401\n",
            "Epoch 12/50\n",
            "219/219 [==============================] - 0s 2ms/step - loss: 0.3838 - accuracy: 0.8429\n",
            "Epoch 13/50\n",
            "219/219 [==============================] - 0s 2ms/step - loss: 0.3838 - accuracy: 0.8419\n",
            "Epoch 14/50\n",
            "219/219 [==============================] - 1s 2ms/step - loss: 0.3778 - accuracy: 0.8451\n",
            "Epoch 15/50\n",
            "219/219 [==============================] - 0s 2ms/step - loss: 0.3790 - accuracy: 0.8434\n",
            "Epoch 16/50\n",
            "219/219 [==============================] - 0s 2ms/step - loss: 0.3806 - accuracy: 0.8404\n",
            "Epoch 17/50\n",
            "219/219 [==============================] - 0s 2ms/step - loss: 0.3748 - accuracy: 0.8460\n",
            "Epoch 18/50\n",
            "219/219 [==============================] - 0s 2ms/step - loss: 0.3756 - accuracy: 0.8481\n",
            "Epoch 19/50\n",
            "219/219 [==============================] - 0s 2ms/step - loss: 0.3724 - accuracy: 0.8459\n",
            "Epoch 20/50\n",
            "219/219 [==============================] - 0s 2ms/step - loss: 0.3675 - accuracy: 0.8461\n",
            "Epoch 21/50\n",
            "219/219 [==============================] - 1s 3ms/step - loss: 0.3733 - accuracy: 0.8473\n",
            "Epoch 22/50\n",
            "219/219 [==============================] - 1s 3ms/step - loss: 0.3689 - accuracy: 0.8484\n",
            "Epoch 23/50\n",
            "219/219 [==============================] - 1s 3ms/step - loss: 0.3716 - accuracy: 0.8476\n",
            "Epoch 24/50\n",
            "219/219 [==============================] - 1s 3ms/step - loss: 0.3712 - accuracy: 0.8501\n",
            "Epoch 25/50\n",
            "219/219 [==============================] - 1s 3ms/step - loss: 0.3696 - accuracy: 0.8503\n",
            "Epoch 26/50\n",
            "219/219 [==============================] - 1s 3ms/step - loss: 0.3660 - accuracy: 0.8504\n",
            "Epoch 27/50\n",
            "219/219 [==============================] - 1s 3ms/step - loss: 0.3621 - accuracy: 0.8556\n",
            "Epoch 28/50\n",
            "219/219 [==============================] - 0s 2ms/step - loss: 0.3647 - accuracy: 0.8501\n",
            "Epoch 29/50\n",
            "219/219 [==============================] - 0s 2ms/step - loss: 0.3626 - accuracy: 0.8504\n",
            "Epoch 30/50\n",
            "219/219 [==============================] - 0s 2ms/step - loss: 0.3606 - accuracy: 0.8554\n",
            "Epoch 31/50\n",
            "219/219 [==============================] - 0s 2ms/step - loss: 0.3649 - accuracy: 0.8506\n",
            "Epoch 32/50\n",
            "219/219 [==============================] - 0s 2ms/step - loss: 0.3615 - accuracy: 0.8531\n",
            "Epoch 33/50\n",
            "219/219 [==============================] - 0s 2ms/step - loss: 0.3574 - accuracy: 0.8539\n",
            "Epoch 34/50\n",
            "219/219 [==============================] - 0s 2ms/step - loss: 0.3589 - accuracy: 0.8574\n",
            "Epoch 35/50\n",
            "219/219 [==============================] - 0s 2ms/step - loss: 0.3593 - accuracy: 0.8543\n",
            "Epoch 36/50\n",
            "219/219 [==============================] - 0s 2ms/step - loss: 0.3578 - accuracy: 0.8537\n",
            "Epoch 37/50\n",
            "219/219 [==============================] - 1s 3ms/step - loss: 0.3622 - accuracy: 0.8526\n",
            "Epoch 38/50\n",
            "219/219 [==============================] - 1s 2ms/step - loss: 0.3610 - accuracy: 0.8511\n",
            "Epoch 39/50\n",
            "219/219 [==============================] - 1s 2ms/step - loss: 0.3587 - accuracy: 0.8543\n",
            "Epoch 40/50\n",
            "219/219 [==============================] - 1s 2ms/step - loss: 0.3581 - accuracy: 0.8540\n",
            "Epoch 41/50\n",
            "219/219 [==============================] - 0s 2ms/step - loss: 0.3557 - accuracy: 0.8554\n",
            "Epoch 42/50\n",
            "219/219 [==============================] - 0s 2ms/step - loss: 0.3587 - accuracy: 0.8559\n",
            "Epoch 43/50\n",
            "219/219 [==============================] - 0s 2ms/step - loss: 0.3541 - accuracy: 0.8554\n",
            "Epoch 44/50\n",
            "219/219 [==============================] - 0s 2ms/step - loss: 0.3512 - accuracy: 0.8573\n",
            "Epoch 45/50\n",
            "219/219 [==============================] - 0s 2ms/step - loss: 0.3528 - accuracy: 0.8561\n",
            "Epoch 46/50\n",
            "219/219 [==============================] - 0s 2ms/step - loss: 0.3575 - accuracy: 0.8514\n",
            "Epoch 47/50\n",
            "219/219 [==============================] - 0s 2ms/step - loss: 0.3550 - accuracy: 0.8573\n",
            "Epoch 48/50\n",
            "219/219 [==============================] - 1s 2ms/step - loss: 0.3562 - accuracy: 0.8540\n",
            "Epoch 49/50\n",
            "219/219 [==============================] - 1s 3ms/step - loss: 0.3534 - accuracy: 0.8551\n",
            "Epoch 50/50\n",
            "219/219 [==============================] - 1s 3ms/step - loss: 0.3572 - accuracy: 0.8543\n"
          ]
        },
        {
          "output_type": "execute_result",
          "data": {
            "text/plain": [
              "<keras.src.callbacks.History at 0x7d83b790ceb0>"
            ]
          },
          "metadata": {},
          "execution_count": 40
        }
      ]
    },
    {
      "cell_type": "code",
      "source": [
        "previsoes = modelo.predict(x_teste)\n",
        "previsoes"
      ],
      "metadata": {
        "colab": {
          "base_uri": "https://localhost:8080/"
        },
        "id": "-VmQ5f3EpqY9",
        "outputId": "2312a891-698b-4bf8-ff5d-e0ebf056769f"
      },
      "execution_count": 41,
      "outputs": [
        {
          "output_type": "stream",
          "name": "stdout",
          "text": [
            "94/94 [==============================] - 0s 2ms/step\n"
          ]
        },
        {
          "output_type": "execute_result",
          "data": {
            "text/plain": [
              "array([[0.20013705],\n",
              "       [0.27272707],\n",
              "       [0.2532243 ],\n",
              "       ...,\n",
              "       [0.0767646 ],\n",
              "       [0.08133647],\n",
              "       [0.4669999 ]], dtype=float32)"
            ]
          },
          "metadata": {},
          "execution_count": 41
        }
      ]
    },
    {
      "cell_type": "code",
      "source": [
        "y_pred = (previsoes> 0.5).astype('int32')\n",
        "y_pred"
      ],
      "metadata": {
        "colab": {
          "base_uri": "https://localhost:8080/"
        },
        "id": "540I0nOYqBXX",
        "outputId": "c9ff04fa-a706-4529-a0b7-a06c0f1bcacb"
      },
      "execution_count": 43,
      "outputs": [
        {
          "output_type": "execute_result",
          "data": {
            "text/plain": [
              "array([[0],\n",
              "       [0],\n",
              "       [0],\n",
              "       ...,\n",
              "       [0],\n",
              "       [0],\n",
              "       [0]], dtype=int32)"
            ]
          },
          "metadata": {},
          "execution_count": 43
        }
      ]
    },
    {
      "cell_type": "code",
      "source": [
        "print('Acurácia: ', accuracy_score(y_teste, y_pred))\n",
        "print('F1: ', f1_score(y_teste, y_pred))\n",
        "print('Recall: ', recall_score(y_teste, y_pred))\n",
        "print('Matriz de Confusão: ', confusion_matrix(y_teste, y_pred))"
      ],
      "metadata": {
        "colab": {
          "base_uri": "https://localhost:8080/"
        },
        "id": "TcU1PIkwqJJi",
        "outputId": "b9b8cd87-0cb2-4b19-8e11-a86926f76fba"
      },
      "execution_count": 46,
      "outputs": [
        {
          "output_type": "stream",
          "name": "stdout",
          "text": [
            "Acurácia:  0.8606666666666667\n",
            "F1:  0.5777777777777777\n",
            "Recall:  0.4605475040257649\n",
            "Matriz de Confusão:  [[2296   83]\n",
            " [ 335  286]]\n"
          ]
        }
      ]
    },
    {
      "cell_type": "code",
      "source": [],
      "metadata": {
        "id": "P0Z_Nl9QrIxR"
      },
      "execution_count": null,
      "outputs": []
    }
  ]
}